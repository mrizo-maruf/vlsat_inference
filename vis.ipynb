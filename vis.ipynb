{
 "cells": [
  {
   "cell_type": "code",
   "execution_count": 8,
   "id": "b38099c5",
   "metadata": {},
   "outputs": [],
   "source": [
    "import open3d as o3d\n",
    "import numpy as np\n",
    "import os\n",
    "\n",
    "# --- 1. Setup ---\n",
    "# IMPORTANT: Replace this with the path to your directory\n",
    "npy_dir = '/home/rizo/mipt_ccm/vlsat_inference/point_clouds' "
   ]
  },
  {
   "cell_type": "code",
   "execution_count": 10,
   "id": "0a64dab3",
   "metadata": {},
   "outputs": [
    {
     "name": "stdout",
     "output_type": "stream",
     "text": [
      "Loading: point_cloud_20240806_001513_id_2.npy\n",
      "Array shape: (), dtype: object\n",
      "An error occurred: tuple index out of range\n"
     ]
    }
   ],
   "source": [
    "try:\n",
    "    # Find all .npy files in the directory\n",
    "    npy_files = [f for f in os.listdir(npy_dir) if f.endswith('.npy')]\n",
    "    if not npy_files:\n",
    "        raise FileNotFoundError(\"No .npy files found in the directory.\")\n",
    "\n",
    "    # Let's visualize the first file\n",
    "    file_to_visualize = npy_files[0]\n",
    "    file_path = os.path.join(npy_dir, file_to_visualize)\n",
    "    print(f\"Loading: {file_to_visualize}\")\n",
    "\n",
    "    # --- 2. Load the NumPy array ---\n",
    "    point_cloud_numpy = np.load(file_path, allow_pickle=True)\n",
    "    print(f\"Array shape: {point_cloud_numpy.shape}, dtype: {point_cloud_numpy.dtype}\")\n",
    "\n",
    "    # --- 3. Convert NumPy array to Open3D PointCloud ---\n",
    "    # We assume the shape is (N, 3) for N points with X, Y, Z coordinates\n",
    "    if point_cloud_numpy.shape[1] != 3:\n",
    "        raise ValueError(\"NumPy array must have a shape of (N, 3).\")\n",
    "\n",
    "    pcd = o3d.geometry.PointCloud()\n",
    "    pcd.points = o3d.utility.Vector3dVector(point_cloud_numpy)\n",
    "    \n",
    "    # --- 4. Visualize ---\n",
    "    print(\"Displaying the point cloud. You can rotate, pan, and zoom.\")\n",
    "    o3d.visualization.draw(pcd)\n",
    "\n",
    "except (FileNotFoundError, ValueError) as e:\n",
    "    print(e)\n",
    "    print(\"Please check that 'npy_dir' is set correctly and files have the right format.\")\n",
    "except Exception as e:\n",
    "    print(f\"An error occurred: {e}\")"
   ]
  },
  {
   "cell_type": "code",
   "execution_count": null,
   "id": "c53f71d4",
   "metadata": {},
   "outputs": [],
   "source": []
  }
 ],
 "metadata": {
  "kernelspec": {
   "display_name": "vlsat",
   "language": "python",
   "name": "python3"
  },
  "language_info": {
   "codemirror_mode": {
    "name": "ipython",
    "version": 3
   },
   "file_extension": ".py",
   "mimetype": "text/x-python",
   "name": "python",
   "nbconvert_exporter": "python",
   "pygments_lexer": "ipython3",
   "version": "3.8.18"
  }
 },
 "nbformat": 4,
 "nbformat_minor": 5
}
