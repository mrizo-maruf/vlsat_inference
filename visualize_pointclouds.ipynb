{
 "cells": [
  {
   "cell_type": "code",
   "execution_count": 1,
   "metadata": {},
   "outputs": [
    {
     "name": "stdout",
     "output_type": "stream",
     "text": [
      "Jupyter environment detected. Enabling Open3D WebVisualizer.\n",
      "[Open3D INFO] WebRTC GUI backend enabled.\n",
      "[Open3D INFO] WebRTCWindowSystem: HTTP handshake server disabled.\n",
      "[Open3D INFO] Resetting default logger to print to terminal.\n"
     ]
    }
   ],
   "source": [
    "import open3d as o3d\n",
    "from open3d.web_visualizer import draw\n",
    "import numpy as np\n",
    "import os"
   ]
  },
  {
   "cell_type": "code",
   "execution_count": 52,
   "metadata": {},
   "outputs": [],
   "source": [
    "data_path = \"./point_clouds\"\n",
    "pcd_path = \"point_cloud_20240806_001539_id_7.npy\"\n",
    "data_dict_1= np.load(os.path.join(data_path, pcd_path), allow_pickle=True).item()[\"point_cloud\"]\n",
    "pcd_path = \"point_cloud_20240806_001540_id_7.npy\"\n",
    "data_dict_2 = np.load(os.path.join(data_path, pcd_path), allow_pickle=True).item()[\"point_cloud\"]"
   ]
  },
  {
   "cell_type": "code",
   "execution_count": 53,
   "metadata": {},
   "outputs": [],
   "source": [
    "distance_x = np.mean(data_dict_1[:,0]) - np.mean(data_dict_2[:,0])\n",
    "distance_y = np.mean(data_dict_1[:,1]) - np.mean(data_dict_2[:,1])\n",
    "distance_z = np.mean(data_dict_1[:,2]) - np.mean(data_dict_2[:,2])\n",
    "\n",
    "data_dict_1[:, 0] = data_dict_1[:, 0] - distance_x\n",
    "data_dict_1[:, 1] = data_dict_1[:, 1] - distance_y\n",
    "data_dict_1[:, 1] = data_dict_1[:, 1] - distance_z"
   ]
  },
  {
   "cell_type": "code",
   "execution_count": 54,
   "metadata": {},
   "outputs": [
    {
     "data": {
      "text/plain": [
       "-0.35952908270454353"
      ]
     },
     "execution_count": 54,
     "metadata": {},
     "output_type": "execute_result"
    }
   ],
   "source": [
    "np.mean(data_dict_1[:,0])"
   ]
  },
  {
   "cell_type": "code",
   "execution_count": 55,
   "metadata": {},
   "outputs": [],
   "source": [
    "colors_1 = np.zeros_like(data_dict_1)\n",
    "colors_1[:,1] = 1 + colors_1[:,1]\n",
    "colors_2 = np.zeros_like(data_dict_2)\n",
    "colors_2[:,2] = 1 + colors_2[:,2] "
   ]
  },
  {
   "cell_type": "code",
   "execution_count": 56,
   "metadata": {},
   "outputs": [],
   "source": [
    "pcd = np.concatenate((data_dict_1, data_dict_2), axis=0)\n",
    "colors = np.concatenate((colors_1, colors_2), axis=0)"
   ]
  },
  {
   "cell_type": "code",
   "execution_count": 57,
   "metadata": {},
   "outputs": [],
   "source": [
    "pcd_o3d = o3d.geometry.PointCloud()\n",
    "pcd_o3d.points = o3d.utility.Vector3dVector(pcd)\n",
    "pcd_o3d.colors = o3d.utility.Vector3dVector(colors)"
   ]
  },
  {
   "cell_type": "code",
   "execution_count": 58,
   "metadata": {},
   "outputs": [
    {
     "name": "stdout",
     "output_type": "stream",
     "text": [
      "[Open3D INFO] Window window_7 created.\n"
     ]
    },
    {
     "data": {
      "application/vnd.jupyter.widget-view+json": {
       "model_id": "b85d218e4cd949478364b94f8ba7e681",
       "version_major": 2,
       "version_minor": 0
      },
      "text/plain": [
       "WebVisualizer(window_uid='window_7')"
      ]
     },
     "metadata": {},
     "output_type": "display_data"
    },
    {
     "name": "stdout",
     "output_type": "stream",
     "text": [
      "[Open3D INFO] Sending init frames to window_7.\n"
     ]
    },
    {
     "name": "stderr",
     "output_type": "stream",
     "text": [
      "[653:727][4150639] (stun_port.cc:96): Binding request timed out from 192.168.0.x:44238 (eno1)\n",
      "[653:727][4150639] (stun_port.cc:96): Binding request timed out from 172.24.249.x:45835 (ztly5r4qjp)\n",
      "[653:727][4150639] (stun_port.cc:96): Binding request timed out from 10.147.18.x:54575 (ztqu3aetcl)\n",
      "[653:727][4150639] (stun_port.cc:96): Binding request timed out from 10.43.71.x:40285 (ztvli23lch)\n",
      "[653:730][4150639] (stun_port.cc:96): Binding request timed out from 10.147.18.x:54575 (ztqu3aetcl)\n",
      "[653:730][4150639] (stun_port.cc:96): Binding request timed out from 172.24.249.x:45835 (ztly5r4qjp)\n",
      "[653:730][4150639] (stun_port.cc:96): Binding request timed out from 10.43.71.x:40285 (ztvli23lch)\n"
     ]
    }
   ],
   "source": [
    "draw(pcd_o3d)"
   ]
  }
 ],
 "metadata": {
  "kernelspec": {
   "display_name": "Python 3 (ipykernel)",
   "language": "python",
   "name": "python3"
  },
  "language_info": {
   "codemirror_mode": {
    "name": "ipython",
    "version": 3
   },
   "file_extension": ".py",
   "mimetype": "text/x-python",
   "name": "python",
   "nbconvert_exporter": "python",
   "pygments_lexer": "ipython3",
   "version": "3.10.13"
  }
 },
 "nbformat": 4,
 "nbformat_minor": 4
}
