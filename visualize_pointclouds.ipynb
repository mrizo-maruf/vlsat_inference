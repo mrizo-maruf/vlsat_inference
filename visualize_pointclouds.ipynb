{
 "cells": [
  {
   "cell_type": "code",
   "execution_count": 8,
   "metadata": {},
   "outputs": [],
   "source": [
    "import open3d as o3d\n",
    "# from open3d.web_visualizer import draw\n",
    "import numpy as np\n",
    "import os\n",
    "import json"
   ]
  },
  {
   "cell_type": "code",
   "execution_count": 10,
   "metadata": {},
   "outputs": [],
   "source": [
    "dirname = \"\"\"/home/rizo/mipt_ccm/vlsat_inference/point_clouds_test\"\"\""
   ]
  },
  {
   "cell_type": "code",
   "execution_count": 15,
   "metadata": {},
   "outputs": [
    {
     "name": "stdout",
     "output_type": "stream",
     "text": [
      "Processing frame: test_shapes.json, dict_keys(['objects'])\n",
      "obj keys: dict_keys(['id', 'name', 'point_cloud'])\n",
      "obj keys: dict_keys(['id', 'name', 'point_cloud'])\n"
     ]
    }
   ],
   "source": [
    "\n",
    "pcds = {}\n",
    "for framename in os.listdir(dirname):\n",
    "    with open(os.path.join(dirname, framename)) as f:\n",
    "        frame = json.load(f)\n",
    "    number_of_large_objects = 0 \n",
    "    print(f\"Processing frame: {framename}, {frame.keys()}\")\n",
    "    for i, obj in enumerate(frame['objects']):\n",
    "        print(f\"obj keys: {obj.keys()}\")\n",
    "        if obj[\"id\"] not in pcds:\n",
    "            pcds[obj[\"id\"]] = []\n",
    "        pc_array = np.array(obj[\"point_cloud\"])\n",
    "        pose =  [\n",
    "                    np.round(np.mean(pc_array[:, 0]),2),\n",
    "                    np.round(np.mean(pc_array[:, 1]),2),\n",
    "                    np.round(np.mean(pc_array[:, 2]),2),\n",
    "                ]\n",
    "        pcds[obj[\"id\"]].append(pose)"
   ]
  },
  {
   "cell_type": "code",
   "execution_count": 16,
   "metadata": {},
   "outputs": [
    {
     "name": "stdout",
     "output_type": "stream",
     "text": [
      "0 [-0.18, -0.16, 0.33]\n",
      "1 [0.0, 0.0, 1.19]\n"
     ]
    }
   ],
   "source": [
    "for track_id in pcds:\n",
    "    for pose in pcds[track_id]:\n",
    "        \n",
    "        print(track_id, pose)"
   ]
  },
  {
   "cell_type": "code",
   "execution_count": 17,
   "metadata": {},
   "outputs": [],
   "source": [
    "from collections import Counter\n",
    "def pcd_denoise_dbscan(pcd: o3d.geometry.PointCloud, eps=0.02, min_points=10) -> o3d.geometry.PointCloud:\n",
    "    ### Remove noise via clustering\n",
    "    pcd_clusters = pcd.cluster_dbscan(\n",
    "        eps=eps,\n",
    "        min_points=min_points,\n",
    "    )\n",
    "    \n",
    "    # Convert to numpy arrays\n",
    "    obj_points = np.asarray(pcd.points)\n",
    "    #obj_colors = np.asarray(pcd.colors)\n",
    "    pcd_clusters = np.array(pcd_clusters)\n",
    "\n",
    "    # Count all labels in the cluster\n",
    "    counter = Counter(pcd_clusters)\n",
    "\n",
    "    # Remove the noise label\n",
    "    if counter and (-1 in counter):\n",
    "        del counter[-1]\n",
    "\n",
    "    if counter:\n",
    "        # Find the label of the largest cluster\n",
    "        most_common_label, _ = counter.most_common(1)[0]\n",
    "        \n",
    "        # Create mask for points in the largest cluster\n",
    "        largest_mask = pcd_clusters == most_common_label\n",
    "\n",
    "        # Apply mask\n",
    "        largest_cluster_points = obj_points[largest_mask]\n",
    "        #largest_cluster_colors = obj_colors[largest_mask]\n",
    "        \n",
    "        # If the largest cluster is too small, return the original point cloud\n",
    "        if len(largest_cluster_points) < 5:\n",
    "            return pcd\n",
    "\n",
    "        # Create a new PointCloud object\n",
    "        largest_cluster_pcd = o3d.geometry.PointCloud()\n",
    "        largest_cluster_pcd.points = o3d.utility.Vector3dVector(largest_cluster_points)\n",
    "        \n",
    "        pcd = largest_cluster_pcd\n",
    "        \n",
    "    return pcd"
   ]
  },
  {
   "cell_type": "code",
   "execution_count": 18,
   "metadata": {},
   "outputs": [
    {
     "ename": "FileNotFoundError",
     "evalue": "[Errno 2] No such file or directory: 'point_clouds-2/point_clouds/frame_1.json'",
     "output_type": "error",
     "traceback": [
      "\u001b[0;31m---------------------------------------------------------------------------\u001b[0m",
      "\u001b[0;31mFileNotFoundError\u001b[0m                         Traceback (most recent call last)",
      "Cell \u001b[0;32mIn[18], line 3\u001b[0m\n\u001b[1;32m      1\u001b[0m dirname \u001b[38;5;241m=\u001b[39m \u001b[38;5;124m\"\u001b[39m\u001b[38;5;124mpoint_clouds-2/point_clouds/\u001b[39m\u001b[38;5;124m\"\u001b[39m\n\u001b[1;32m      2\u001b[0m framename \u001b[38;5;241m=\u001b[39m \u001b[38;5;124m\"\u001b[39m\u001b[38;5;124mframe_1.json\u001b[39m\u001b[38;5;124m\"\u001b[39m\n\u001b[0;32m----> 3\u001b[0m \u001b[38;5;28;01mwith\u001b[39;00m \u001b[38;5;28;43mopen\u001b[39;49m\u001b[43m(\u001b[49m\u001b[43mos\u001b[49m\u001b[38;5;241;43m.\u001b[39;49m\u001b[43mpath\u001b[49m\u001b[38;5;241;43m.\u001b[39;49m\u001b[43mjoin\u001b[49m\u001b[43m(\u001b[49m\u001b[43mdirname\u001b[49m\u001b[43m,\u001b[49m\u001b[43m \u001b[49m\u001b[43mframename\u001b[49m\u001b[43m)\u001b[49m\u001b[43m)\u001b[49m \u001b[38;5;28;01mas\u001b[39;00m f:\n\u001b[1;32m      4\u001b[0m     frame \u001b[38;5;241m=\u001b[39m json\u001b[38;5;241m.\u001b[39mload(f)\n",
      "File \u001b[0;32m~/.local/lib/python3.10/site-packages/IPython/core/interactiveshell.py:324\u001b[0m, in \u001b[0;36m_modified_open\u001b[0;34m(file, *args, **kwargs)\u001b[0m\n\u001b[1;32m    317\u001b[0m \u001b[38;5;28;01mif\u001b[39;00m file \u001b[38;5;129;01min\u001b[39;00m {\u001b[38;5;241m0\u001b[39m, \u001b[38;5;241m1\u001b[39m, \u001b[38;5;241m2\u001b[39m}:\n\u001b[1;32m    318\u001b[0m     \u001b[38;5;28;01mraise\u001b[39;00m \u001b[38;5;167;01mValueError\u001b[39;00m(\n\u001b[1;32m    319\u001b[0m         \u001b[38;5;124mf\u001b[39m\u001b[38;5;124m\"\u001b[39m\u001b[38;5;124mIPython won\u001b[39m\u001b[38;5;124m'\u001b[39m\u001b[38;5;124mt let you open fd=\u001b[39m\u001b[38;5;132;01m{\u001b[39;00mfile\u001b[38;5;132;01m}\u001b[39;00m\u001b[38;5;124m by default \u001b[39m\u001b[38;5;124m\"\u001b[39m\n\u001b[1;32m    320\u001b[0m         \u001b[38;5;124m\"\u001b[39m\u001b[38;5;124mas it is likely to crash IPython. If you know what you are doing, \u001b[39m\u001b[38;5;124m\"\u001b[39m\n\u001b[1;32m    321\u001b[0m         \u001b[38;5;124m\"\u001b[39m\u001b[38;5;124myou can use builtins\u001b[39m\u001b[38;5;124m'\u001b[39m\u001b[38;5;124m open.\u001b[39m\u001b[38;5;124m\"\u001b[39m\n\u001b[1;32m    322\u001b[0m     )\n\u001b[0;32m--> 324\u001b[0m \u001b[38;5;28;01mreturn\u001b[39;00m \u001b[43mio_open\u001b[49m\u001b[43m(\u001b[49m\u001b[43mfile\u001b[49m\u001b[43m,\u001b[49m\u001b[43m \u001b[49m\u001b[38;5;241;43m*\u001b[39;49m\u001b[43margs\u001b[49m\u001b[43m,\u001b[49m\u001b[43m \u001b[49m\u001b[38;5;241;43m*\u001b[39;49m\u001b[38;5;241;43m*\u001b[39;49m\u001b[43mkwargs\u001b[49m\u001b[43m)\u001b[49m\n",
      "\u001b[0;31mFileNotFoundError\u001b[0m: [Errno 2] No such file or directory: 'point_clouds-2/point_clouds/frame_1.json'"
     ]
    }
   ],
   "source": [
    "dirname = \"point_clouds-2/point_clouds/\"\n",
    "framename = \"frame_1.json\"\n",
    "with open(os.path.join(dirname, framename)) as f:\n",
    "    frame = json.load(f)"
   ]
  },
  {
   "cell_type": "code",
   "execution_count": 43,
   "metadata": {},
   "outputs": [
    {
     "name": "stdout",
     "output_type": "stream",
     "text": [
      "8561 1 0 [1.217146589845437, 0.4739201112582472, -0.16513834905526797]\n",
      "22426 1 1 [1.0195534155715849, -0.2916883106121823, -0.17452518878210538]\n",
      "40 0 2 [2.0295629718295216, -0.2005763133122287, -0.7444377363721665]\n",
      "18488 1 3 [1.1381738629158495, 0.05979025773894107, -0.15925896826165598]\n",
      "8700 1 4 [1.0389699183548167, -0.24019952444992446, -0.014888865596165323]\n",
      "820 1 5 [1.8881230092774821, -0.5665642856546798, -0.6846687536191339]\n"
     ]
    }
   ],
   "source": [
    "tracked_objects = []\n",
    "for obj in frame[\"tracked_objects\"]:\n",
    "    if obj['class_id'] == 1 and len(obj['point_cloud']) > 1000:\n",
    "        tracked_objects.append(obj)\n",
    "    print(len(obj['point_cloud']), obj[\"class_id\"], obj[\"tracking_id\"], obj[\"pose\"])\n",
    "    "
   ]
  },
  {
   "cell_type": "code",
   "execution_count": 49,
   "metadata": {},
   "outputs": [],
   "source": [
    "for obj in frame[\"tracked_objects\"]:\n",
    "    pcd_o3d = o3d.geometry.PointCloud()\n",
    "    pcd_o3d.points = o3d.utility.Vector3dVector(obj['point_cloud'])\n",
    "    pcd = pcd_denoise_dbscan(pcd_o3d )\n",
    "    obj['point_cloud'] = np.array(pcd.points)\n"
   ]
  },
  {
   "cell_type": "code",
   "execution_count": 67,
   "metadata": {},
   "outputs": [
    {
     "name": "stdout",
     "output_type": "stream",
     "text": [
      "(16,) (16,) (16,)\n",
      "(16, 16, 16) (16, 16, 16) (16, 16, 16)\n",
      "(4096, 3)\n",
      "(16,) (16,) (16,)\n",
      "(16, 16, 16) (16, 16, 16) (16, 16, 16)\n",
      "(4096, 3)\n",
      "(16,) (16,) (16,)\n",
      "(16, 16, 16) (16, 16, 16) (16, 16, 16)\n",
      "(4096, 3)\n",
      "(16,) (16,) (16,)\n",
      "(16, 16, 16) (16, 16, 16) (16, 16, 16)\n",
      "(4096, 3)\n"
     ]
    }
   ],
   "source": [
    "tracked_objects = []\n",
    "for obj in frame[\"tracked_objects\"]:\n",
    "    if obj['class_id'] == 1 and len(obj['point_cloud']) > 1000:\n",
    "        pose = obj[\"pose\"]\n",
    "        #size = [\n",
    "        #    np.max(obj['point_cloud'][:,2]) - np.min(obj['point_cloud'][:,2]),\n",
    "        #    np.max(obj['point_cloud'][:,0]) - np.min(obj['point_cloud'][:,0]),\n",
    "        #    np.max(obj['point_cloud'][:,1]) - np.min(obj['point_cloud'][:,1]),\n",
    "        #]\n",
    "        size = [0.3, 0.3, 0.15]\n",
    "        nx, ny, nz = (16, 16, 16)\n",
    "        x = np.linspace(pose[0] - size[0]/2, pose[0] + size[0]/2, nx)\n",
    "        y = np.linspace(pose[1] - size[1]/2, pose[1] + size[1]/2, ny)\n",
    "        z = np.linspace(pose[2] - size[2]/2, pose[2] + size[2]/2, nz)\n",
    "        xv, yv, zv = np.meshgrid(x, y, z)\n",
    "        print(x.shape, y.shape, z.shape)\n",
    "        #print(xv)\n",
    "        print(xv.shape, yv.shape, zv.shape)\n",
    "        #print(xv.flatten())\n",
    "        grid_pc = np.stack((xv.flatten(), yv.flatten(), zv.flatten()), axis=1)\n",
    "        print(grid_pc.shape)\n",
    "        #print(grid_pc)\n",
    "\n",
    "        tracked_objects.append(\n",
    "            {\n",
    "                'point_cloud': grid_pc\n",
    "            }\n",
    "        )"
   ]
  },
  {
   "cell_type": "code",
   "execution_count": 68,
   "metadata": {},
   "outputs": [
    {
     "name": "stderr",
     "output_type": "stream",
     "text": [
      "[8634:732][2365614] (stun_port.cc:96): Binding request timed out from 192.168.0.x:45604 (eno1)\n",
      "[8634:732][2365614] (stun_port.cc:96): Binding request timed out from 172.24.249.x:45667 (ztly5r4qjp)\n",
      "[8634:732][2365614] (stun_port.cc:96): Binding request timed out from 10.147.18.x:42940 (ztqu3aetcl)\n",
      "[8634:732][2365614] (stun_port.cc:96): Binding request timed out from 10.43.71.x:56541 (ztvli23lch)\n",
      "[8634:732][2365614] (stun_port.cc:96): Binding request timed out from 172.24.249.x:45667 (ztly5r4qjp)\n",
      "[8634:732][2365614] (stun_port.cc:96): Binding request timed out from 10.147.18.x:42940 (ztqu3aetcl)\n",
      "[8634:732][2365614] (stun_port.cc:96): Binding request timed out from 10.43.71.x:56541 (ztvli23lch)\n"
     ]
    }
   ],
   "source": [
    "colors = [\n",
    "    (0.85, 0.33, 0.10),\n",
    "    (0.47, 0.67, 0.19),\n",
    "    (0.29, 0.56, 0.89),\n",
    "    (0.64, 0.08, 0.18),\n",
    "    (0.10, 0.75, 0.61),\n",
    "    (0.98, 0.84, 0.21),\n",
    "    (0.30, 0.30, 0.30),\n",
    "    (0.68, 0.47, 0.83),\n",
    "    (0.55, 0.34, 0.29),\n",
    "    (0.12, 0.72, 0.77),\n",
    "    (0.92, 0.28, 0.58),\n",
    "    (0.14, 0.42, 0.75),\n",
    "    (0.40, 0.76, 0.65),\n",
    "    (0.90, 0.49, 0.13),\n",
    "    (0.22, 0.64, 0.82)\n",
    "]\n",
    "\n",
    "colors_array = []\n",
    "\n",
    "for i, obj in enumerate(tracked_objects):\n",
    "    color_array = np.ones_like(obj['point_cloud'])\n",
    "    color_array[:,0] = colors[i][0]\n",
    "    color_array[:,1] = colors[i][1]\n",
    "    color_array[:,2] = colors[i][2]\n",
    "    colors_array.append(color_array)\n"
   ]
  },
  {
   "cell_type": "code",
   "execution_count": 69,
   "metadata": {},
   "outputs": [],
   "source": [
    "pcd_data = [\n",
    "    obj['point_cloud']\n",
    "    for obj in tracked_objects\n",
    "]\n",
    "pcd = np.concatenate(pcd_data, axis=0)\n",
    "colors = np.concatenate(colors_array, axis=0)"
   ]
  },
  {
   "cell_type": "code",
   "execution_count": 19,
   "metadata": {},
   "outputs": [
    {
     "ename": "NameError",
     "evalue": "name 'pcd' is not defined",
     "output_type": "error",
     "traceback": [
      "\u001b[0;31m---------------------------------------------------------------------------\u001b[0m",
      "\u001b[0;31mNameError\u001b[0m                                 Traceback (most recent call last)",
      "Cell \u001b[0;32mIn[19], line 2\u001b[0m\n\u001b[1;32m      1\u001b[0m pcd_o3d \u001b[38;5;241m=\u001b[39m o3d\u001b[38;5;241m.\u001b[39mgeometry\u001b[38;5;241m.\u001b[39mPointCloud()\n\u001b[0;32m----> 2\u001b[0m pcd_o3d\u001b[38;5;241m.\u001b[39mpoints \u001b[38;5;241m=\u001b[39m o3d\u001b[38;5;241m.\u001b[39mutility\u001b[38;5;241m.\u001b[39mVector3dVector(\u001b[43mpcd\u001b[49m)\n\u001b[1;32m      3\u001b[0m pcd_o3d\u001b[38;5;241m.\u001b[39mcolors \u001b[38;5;241m=\u001b[39m o3d\u001b[38;5;241m.\u001b[39mutility\u001b[38;5;241m.\u001b[39mVector3dVector(colors)\n\u001b[1;32m      4\u001b[0m draw(pcd_o3d)\n",
      "\u001b[0;31mNameError\u001b[0m: name 'pcd' is not defined"
     ]
    }
   ],
   "source": [
    "pcd_o3d = o3d.geometry.PointCloud()\n",
    "pcd_o3d.points = o3d.utility.Vector3dVector(pcd)\n",
    "pcd_o3d.colors = o3d.utility.Vector3dVector(colors)\n",
    "draw(pcd_o3d)"
   ]
  },
  {
   "cell_type": "code",
   "execution_count": 13,
   "metadata": {},
   "outputs": [],
   "source": [
    "data_path = \"./point_clouds\"\n",
    "pcd_path = \"point_cloud_20240806_001539_id_7.npy\"\n",
    "data_dict_1= np.load(os.path.join(data_path, pcd_path), allow_pickle=True).item()[\"point_cloud\"]\n",
    "pcd_path = \"point_cloud_20240806_001540_id_7.npy\"\n",
    "data_dict_2 = np.load(os.path.join(data_path, pcd_path), allow_pickle=True).item()[\"point_cloud\"]"
   ]
  },
  {
   "cell_type": "code",
   "execution_count": 14,
   "metadata": {},
   "outputs": [
    {
     "name": "stdout",
     "output_type": "stream",
     "text": [
      "(15329, 3)\n"
     ]
    }
   ],
   "source": []
  },
  {
   "cell_type": "code",
   "execution_count": 53,
   "metadata": {},
   "outputs": [],
   "source": [
    "distance_x = np.mean(data_dict_1[:,0]) - np.mean(data_dict_2[:,0])\n",
    "distance_y = np.mean(data_dict_1[:,1]) - np.mean(data_dict_2[:,1])\n",
    "distance_z = np.mean(data_dict_1[:,2]) - np.mean(data_dict_2[:,2])\n",
    "\n",
    "data_dict_1[:, 0] = data_dict_1[:, 0] - distance_x\n",
    "data_dict_1[:, 1] = data_dict_1[:, 1] - distance_y\n",
    "data_dict_1[:, 1] = data_dict_1[:, 1] - distance_z"
   ]
  },
  {
   "cell_type": "code",
   "execution_count": 54,
   "metadata": {},
   "outputs": [
    {
     "data": {
      "text/plain": [
       "-0.35952908270454353"
      ]
     },
     "execution_count": 54,
     "metadata": {},
     "output_type": "execute_result"
    }
   ],
   "source": [
    "np.mean(data_dict_1[:,0])"
   ]
  },
  {
   "cell_type": "code",
   "execution_count": 55,
   "metadata": {},
   "outputs": [],
   "source": [
    "colors_1 = np.zeros_like(data_dict_1)\n",
    "colors_1[:,1] = 1 + colors_1[:,1]\n",
    "colors_2 = np.zeros_like(data_dict_2)\n",
    "colors_2[:,2] = 1 + colors_2[:,2] "
   ]
  },
  {
   "cell_type": "code",
   "execution_count": 56,
   "metadata": {},
   "outputs": [],
   "source": [
    "pcd = np.concatenate((data_dict_1, data_dict_2), axis=0)\n",
    "colors = np.concatenate((colors_1, colors_2), axis=0)"
   ]
  },
  {
   "cell_type": "code",
   "execution_count": 57,
   "metadata": {},
   "outputs": [],
   "source": [
    "pcd_o3d = o3d.geometry.PointCloud()\n",
    "pcd_o3d.points = o3d.utility.Vector3dVector(pcd)\n",
    "pcd_o3d.colors = o3d.utility.Vector3dVector(colors)"
   ]
  },
  {
   "cell_type": "code",
   "execution_count": 58,
   "metadata": {},
   "outputs": [
    {
     "name": "stdout",
     "output_type": "stream",
     "text": [
      "[Open3D INFO] Window window_7 created.\n"
     ]
    },
    {
     "data": {
      "application/vnd.jupyter.widget-view+json": {
       "model_id": "b85d218e4cd949478364b94f8ba7e681",
       "version_major": 2,
       "version_minor": 0
      },
      "text/plain": [
       "WebVisualizer(window_uid='window_7')"
      ]
     },
     "metadata": {},
     "output_type": "display_data"
    },
    {
     "name": "stdout",
     "output_type": "stream",
     "text": [
      "[Open3D INFO] Sending init frames to window_7.\n"
     ]
    },
    {
     "name": "stderr",
     "output_type": "stream",
     "text": [
      "[653:727][4150639] (stun_port.cc:96): Binding request timed out from 192.168.0.x:44238 (eno1)\n",
      "[653:727][4150639] (stun_port.cc:96): Binding request timed out from 172.24.249.x:45835 (ztly5r4qjp)\n",
      "[653:727][4150639] (stun_port.cc:96): Binding request timed out from 10.147.18.x:54575 (ztqu3aetcl)\n",
      "[653:727][4150639] (stun_port.cc:96): Binding request timed out from 10.43.71.x:40285 (ztvli23lch)\n",
      "[653:730][4150639] (stun_port.cc:96): Binding request timed out from 10.147.18.x:54575 (ztqu3aetcl)\n",
      "[653:730][4150639] (stun_port.cc:96): Binding request timed out from 172.24.249.x:45835 (ztly5r4qjp)\n",
      "[653:730][4150639] (stun_port.cc:96): Binding request timed out from 10.43.71.x:40285 (ztvli23lch)\n"
     ]
    }
   ],
   "source": [
    "draw(pcd_o3d)"
   ]
  }
 ],
 "metadata": {
  "kernelspec": {
   "display_name": "3dvis",
   "language": "python",
   "name": "python3"
  },
  "language_info": {
   "codemirror_mode": {
    "name": "ipython",
    "version": 3
   },
   "file_extension": ".py",
   "mimetype": "text/x-python",
   "name": "python",
   "nbconvert_exporter": "python",
   "pygments_lexer": "ipython3",
   "version": "3.10.18"
  }
 },
 "nbformat": 4,
 "nbformat_minor": 4
}
